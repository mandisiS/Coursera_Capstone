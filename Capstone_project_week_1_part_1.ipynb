{
 "cells": [
  {
   "cell_type": "markdown",
   "metadata": {},
   "source": [
    "## The battle of neighborhoods:  What top three business types can  an investor invest in or can someone consider to open in neighborhoods of Bronx and Queens (New York boroughs)."
   ]
  },
  {
   "cell_type": "markdown",
   "metadata": {},
   "source": [
    "### 1. Introduction section/Business section"
   ]
  },
  {
   "cell_type": "markdown",
   "metadata": {},
   "source": [
    "The New York City (NYC) is one of the most popular towns, not only in the United States, but worldwide as well. It  has several booming business opportunities.\n",
    "It also holds fame to its Stock Exchange (NYSE). Has quite substantial population that moves around to explore and find survival opportunities. The City has five boroughs [1], namely,\n",
    "\n",
    "1. Bronx\n",
    "2. Manhatten\n",
    "3. Queens\n",
    "4. Brooklyn\n",
    "5. State Island\n",
    "\n",
    "Therefore whether one seeks to run a startup business or one is a prolific businessman or known invester. Wanting to start a business that will be successful in NYC, requires one to be knowledgeable of the current business dynamics in the boroughs of interest. So having insights about common types of businesses that exist in the boroughs of NYC might be insightful to decide if to what business type to start or invest in. Study about common business types in the 306 neighborhoods will help give the potential investers options as to what types of businesses to consider to be viable in the area. Hence this will help increase the level of confidence in the success of the planned business or investment by starting a business that is more aligned to the needs of the respective neighborhoods.\n",
    "\n",
    "    "
   ]
  },
  {
   "cell_type": "markdown",
   "metadata": {
    "collapsed": true
   },
   "source": [
    "#### 1.1 Problem statement"
   ]
  },
  {
   "cell_type": "markdown",
   "metadata": {},
   "source": [
    "What top three common business types can someone (business person/ invester) consider to start in each NYC borough neighborhoods of Bronx and Queens"
   ]
  },
  {
   "cell_type": "markdown",
   "metadata": {},
   "source": [
    "#### 1.2 Areas of Interest"
   ]
  },
  {
   "cell_type": "markdown",
   "metadata": {},
   "source": [
    "This study will focus on two boroughs (Bronx and Queens) of NYC. It will survey the existing neighborhoods businesses and advise on what options can someone consider in such areas. Will render possible business types that can successfully run in the neighborhoods. This will hence assist one in choosing a kind of business to start or invest in."
   ]
  },
  {
   "cell_type": "markdown",
   "metadata": {},
   "source": [
    "#### 1.3 Target audience"
   ]
  },
  {
   "cell_type": "markdown",
   "metadata": {},
   "source": [
    "Local or international business people or investors. Local community; those that are interested in starting business in the area but are confused as to what options to consider. Coorperates that want to franchise in the area. Open to any entrepeneural person interested to start something in neighborhood of Bronx and Queens."
   ]
  },
  {
   "cell_type": "markdown",
   "metadata": {},
   "source": []
  }
 ],
 "metadata": {
  "kernelspec": {
   "display_name": "Python 3.5",
   "language": "python",
   "name": "python3"
  },
  "language_info": {
   "codemirror_mode": {
    "name": "ipython",
    "version": 3
   },
   "file_extension": ".py",
   "mimetype": "text/x-python",
   "name": "python",
   "nbconvert_exporter": "python",
   "pygments_lexer": "ipython3",
   "version": "3.5.5"
  }
 },
 "nbformat": 4,
 "nbformat_minor": 1
}
